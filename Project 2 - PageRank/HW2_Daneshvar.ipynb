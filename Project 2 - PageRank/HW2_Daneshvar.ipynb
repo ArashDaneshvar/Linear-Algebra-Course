{
 "cells": [
  {
   "cell_type": "markdown",
   "id": "034361a4",
   "metadata": {},
   "source": [
    "# HW2 - Page Rank"
   ]
  },
  {
   "cell_type": "markdown",
   "id": "87bb53a5",
   "metadata": {},
   "source": [
    "# Computational linear algebra for large scale problems"
   ]
  },
  {
   "cell_type": "markdown",
   "id": "c9b5e493",
   "metadata": {},
   "source": [
    "## Arash Daneshvar"
   ]
  },
  {
   "cell_type": "markdown",
   "id": "26c04fbe",
   "metadata": {},
   "source": [
    "### s314415"
   ]
  },
  {
   "cell_type": "markdown",
   "id": "17b45862",
   "metadata": {},
   "source": [
    "--------------------------------------------------------------------------------"
   ]
  },
  {
   "cell_type": "markdown",
   "id": "27b91bd1",
   "metadata": {},
   "source": [
    "## Exercise 1"
   ]
  },
  {
   "cell_type": "code",
   "execution_count": 9,
   "id": "4c3f2395",
   "metadata": {},
   "outputs": [
    {
     "name": "stdout",
     "output_type": "stream",
     "text": [
      "Real part of the eigenvector:\n",
      "[0.38709677 0.12903226 0.29032258 0.19354839]\n"
     ]
    }
   ],
   "source": [
    "import numpy as np\n",
    "\n",
    "A = np.array([\n",
    "    [0  , 0  , 1, 1/2],\n",
    "    [1/3, 0  , 0,   0],\n",
    "    [1/3, 1/2, 0, 1/2],\n",
    "    [1/3, 1/2, 0,   0]])\n",
    "\n",
    "# Compute eigenvalues and eigenvectors\n",
    "eigenvalues, eigenvectors = np.linalg.eig(A)\n",
    "\n",
    "# Find the index of the eigenvalue equal to 1\n",
    "index = np.where(np.isclose(eigenvalues, 1))[0][0]\n",
    "\n",
    "# Get the corresponding eigenvector\n",
    "eigenvector = eigenvectors[:, index]\n",
    "\n",
    "# Normalize the eigenvector so that the sum of its elements is 1\n",
    "eigenvector_normalized = eigenvector / np.sum(eigenvector)\n",
    "\n",
    "# Extract the real part of the eigenvector\n",
    "eigenvector_real = np.real(eigenvector_normalized)\n",
    "\n",
    "print(\"Real part of the eigenvector:\")\n",
    "print(eigenvector_real)"
   ]
  },
  {
   "cell_type": "markdown",
   "id": "9f4a94eb",
   "metadata": {},
   "source": [
    "After adding page 5:"
   ]
  },
  {
   "cell_type": "code",
   "execution_count": 2,
   "id": "84391fa0",
   "metadata": {},
   "outputs": [
    {
     "name": "stdout",
     "output_type": "stream",
     "text": [
      "Real part of the eigenvector:\n",
      "[0.24489796 0.08163265 0.36734694 0.12244898 0.18367347]\n"
     ]
    }
   ],
   "source": [
    "import numpy as np\n",
    "\n",
    "A = np.array([\n",
    "    [0  , 0  , 1/2, 1/2, 0],\n",
    "    [1/3, 0  ,   0,   0, 0],\n",
    "    [1/3, 1/2,   0, 1/2, 1],\n",
    "    [1/3, 1/2,   0,   0, 0],\n",
    "    [0  ,   0, 1/2,   0, 0]])\n",
    "\n",
    "# Compute eigenvalues and eigenvectors\n",
    "eigenvalues, eigenvectors = np.linalg.eig(A)\n",
    "\n",
    "# Find the index of the eigenvalue equal to 1\n",
    "index = np.where(np.isclose(eigenvalues, 1))[0][0]\n",
    "\n",
    "# Get the corresponding eigenvector\n",
    "eigenvector = eigenvectors[:, index]\n",
    "\n",
    "# Normalize the eigenvector so that the sum of its elements is 1\n",
    "eigenvector_normalized = eigenvector / np.sum(eigenvector)\n",
    "\n",
    "# Extract the real part of the eigenvector\n",
    "eigenvector_real = np.real(eigenvector_normalized)\n",
    "\n",
    "print(\"Real part of the eigenvector:\")\n",
    "print(eigenvector_real)"
   ]
  },
  {
   "cell_type": "markdown",
   "id": "51a9dacb",
   "metadata": {},
   "source": [
    "--------------------------------------------------------------------------------"
   ]
  },
  {
   "cell_type": "markdown",
   "id": "6e6d8fc0",
   "metadata": {},
   "source": [
    "## Exercise 2"
   ]
  },
  {
   "cell_type": "code",
   "execution_count": 1,
   "id": "209572c1",
   "metadata": {},
   "outputs": [
    {
     "name": "stdout",
     "output_type": "stream",
     "text": [
      "Matrix A:\n",
      "[[0.         0.         1.         0.5        0.         0.        ]\n",
      " [0.33333333 0.         0.         0.         0.         0.        ]\n",
      " [0.33333333 0.5        0.         0.5        0.         0.        ]\n",
      " [0.33333333 0.5        0.         0.         0.         0.        ]\n",
      " [0.         0.         0.         0.         0.         0.        ]\n",
      " [0.         0.         0.         0.         0.         0.        ]]\n",
      "Rank of A: 4\n",
      "Number of components (subwebs): 3\n",
      "dim(V1(A)) exceeds the number of components in the web.\n"
     ]
    }
   ],
   "source": [
    "import numpy as np\n",
    "\n",
    "# Define the matrix A\n",
    "A = np.array([\n",
    "    [0  , 0  , 1, 1/2, 0, 0],\n",
    "    [1/3, 0  , 0,   0, 0, 0],\n",
    "    [1/3, 1/2, 0, 1/2, 0, 0],\n",
    "    [1/3, 1/2, 0,   0, 0, 0],\n",
    "    [0  , 0  , 0,   0, 0, 0],\n",
    "    [0  , 0  , 0,   0, 0, 0]])\n",
    "\n",
    "# Perform row reduction to find the rank of A\n",
    "rank_A = np.linalg.matrix_rank(A)\n",
    "\n",
    "# Number of components (subwebs)\n",
    "num_components = 3\n",
    "\n",
    "# Output the results\n",
    "print(f\"Matrix A:\\n{A}\")\n",
    "print(f\"Rank of A: {rank_A}\")\n",
    "print(f\"Number of components (subwebs): {num_components}\")\n",
    "print(f\"dim(V1(A)) {'equals' if rank_A == num_components else 'exceeds' if rank_A > num_components else 'is less than'} the number of components in the web.\")\n"
   ]
  },
  {
   "cell_type": "markdown",
   "id": "1d70f471",
   "metadata": {},
   "source": [
    "--------------------------------------------------------------------------------"
   ]
  },
  {
   "cell_type": "markdown",
   "id": "19587a92",
   "metadata": {},
   "source": [
    "## Exercise 3 "
   ]
  },
  {
   "cell_type": "code",
   "execution_count": 23,
   "id": "4c1ee3e1",
   "metadata": {},
   "outputs": [
    {
     "name": "stdout",
     "output_type": "stream",
     "text": [
      "Column sums of A: [1. 1. 1. 1. 1.]\n",
      "Eigenvalues of A: [ 1. -1.  1. -1.  0.]\n",
      "Eigenvectors of A:\n",
      "[[ 0.70710678 -0.70710678  0.          0.          0.        ]\n",
      " [ 0.70710678  0.70710678  0.          0.         -0.28867513]\n",
      " [ 0.         -0.          0.70710678 -0.70710678 -0.28867513]\n",
      " [ 0.         -0.          0.70710678  0.70710678 -0.28867513]\n",
      " [ 0.          0.          0.          0.          0.8660254 ]]\n",
      "Eigenvectors corresponding to eigenvalue 1:\n",
      "[[0.70710678 0.        ]\n",
      " [0.70710678 0.        ]\n",
      " [0.         0.70710678]\n",
      " [0.         0.70710678]\n",
      " [0.         0.        ]]\n",
      "Dimension of V1(A): 2\n"
     ]
    }
   ],
   "source": [
    "import numpy as np\n",
    "\n",
    "# Define a sample column-stochastic matrix A\n",
    "A = np.array([\n",
    "    [0, 1, 0, 0, 1/3],\n",
    "    [1, 0, 0, 0, 0],\n",
    "    [0, 0, 0, 1, 1/3],\n",
    "    [0, 0, 1, 0, 1/3],\n",
    "    [0, 0, 0, 0, 0]\n",
    "])\n",
    "\n",
    "# Verify that A is column-stochastic (each column sums to 1)\n",
    "print(f\"Column sums of A: {A.sum(axis=0)}\")\n",
    "\n",
    "# Compute the eigenvalues and eigenvectors of matrix A\n",
    "eigenvalues, eigenvectors = np.linalg.eig(A)\n",
    "\n",
    "# Print the eigenvalues and eigenvectors\n",
    "print(f\"Eigenvalues of A: {eigenvalues}\")\n",
    "print(f\"Eigenvectors of A:\\n{eigenvectors}\")\n",
    "\n",
    "# Identify the index of the eigenvalue that is (approximately) 1\n",
    "eigenvalue_1_index = np.where(np.isclose(eigenvalues, 1))[0]\n",
    "\n",
    "# Extract the eigenvectors corresponding to the eigenvalue 1\n",
    "eigenvectors_1 = eigenvectors[:, eigenvalue_1_index]\n",
    "\n",
    "# Output the eigenvectors corresponding to eigenvalue 1\n",
    "print(f\"Eigenvectors corresponding to eigenvalue 1:\\n{eigenvectors_1}\")\n",
    "\n",
    "# Dimension of the eigenspace for eigenvalue 1\n",
    "dimension_V1_A = eigenvectors_1.shape[1]\n",
    "print(f\"Dimension of V1(A): {dimension_V1_A}\")\n"
   ]
  },
  {
   "cell_type": "markdown",
   "id": "643d4fdf",
   "metadata": {},
   "source": [
    "--------------------------------------------------------------------------------"
   ]
  },
  {
   "cell_type": "markdown",
   "id": "c582e13e",
   "metadata": {},
   "source": [
    "## Exercise 4"
   ]
  },
  {
   "cell_type": "code",
   "execution_count": 24,
   "id": "284b60d5",
   "metadata": {},
   "outputs": [
    {
     "name": "stdout",
     "output_type": "stream",
     "text": [
      "Perron eigenvalue: 0.5613532393351085\n",
      "Non-negative Perron eigenvector:\n",
      "[0.37479335 0.22255348 0.79557628 0.42078293]\n",
      "Scaled Perron eigenvector:\n",
      "[0.20664504 0.12270648 0.43864676 0.23200172]\n"
     ]
    }
   ],
   "source": [
    "import numpy as np\n",
    "\n",
    "# Define the substochastic matrix A'\n",
    "A_prime = np.array([[0, 0, 0, 1/2],\n",
    "              [1/3, 0, 0, 0],\n",
    "              [1/3, 1/2, 0, 1/2],\n",
    "              [1/3, 1/2, 0, 0]])\n",
    "\n",
    "# Compute the eigenvalues and eigenvectors of A'\n",
    "eigenvalues, eigenvectors = np.linalg.eig(A_prime)\n",
    "\n",
    "# Find the Perron (largest positive) eigenvalue and corresponding eigenvector\n",
    "perron_index = np.argmax(eigenvalues.real)\n",
    "perron_eigenvalue = eigenvalues[perron_index].real\n",
    "perron_eigenvector = eigenvectors[:, perron_index].real\n",
    "\n",
    "# Ensure non-negativity\n",
    "perron_eigenvector = np.abs(perron_eigenvector)\n",
    "\n",
    "# Scale the Perron eigenvector so that its components sum to one\n",
    "scaled_perron_eigenvector = perron_eigenvector / np.sum(perron_eigenvector)\n",
    "\n",
    "# Output the results\n",
    "print(f\"Perron eigenvalue: {perron_eigenvalue}\")\n",
    "print(f\"Non-negative Perron eigenvector:\\n{perron_eigenvector}\")\n",
    "print(f\"Scaled Perron eigenvector:\\n{scaled_perron_eigenvector}\")\n"
   ]
  },
  {
   "cell_type": "markdown",
   "id": "6d332f26",
   "metadata": {},
   "source": [
    "--------------------------------------------------------------------------------"
   ]
  },
  {
   "cell_type": "markdown",
   "id": "8cd157ee",
   "metadata": {},
   "source": [
    "## Exercise 8"
   ]
  },
  {
   "cell_type": "code",
   "execution_count": 29,
   "id": "2a28918f",
   "metadata": {},
   "outputs": [
    {
     "name": "stdout",
     "output_type": "stream",
     "text": [
      "Matrix A:\n",
      "[[0.5 0.3 0.2]\n",
      " [0.5 0.7 0.8]]\n",
      "\n",
      "Matrix B:\n",
      "[[0.4 0.6]\n",
      " [0.4 0.3]\n",
      " [0.2 0.1]]\n",
      "\n",
      "Product Matrix C = AB:\n",
      "[[0.36 0.41]\n",
      " [0.64 0.59]]\n",
      "\n",
      "All entries non-negative: True\n",
      "Column sums of C: [1. 1.]\n",
      "C is column-stochastic: True\n"
     ]
    }
   ],
   "source": [
    "import numpy as np\n",
    "\n",
    "# Define the first column-stochastic matrix A\n",
    "A = np.array([\n",
    "    [0.5, 0.3, 0.2],\n",
    "    [0.5, 0.7, 0.8]\n",
    "])\n",
    "\n",
    "# Define the second column-stochastic matrix B\n",
    "B = np.array([\n",
    "    [0.4, 0.6],\n",
    "    [0.4, 0.3],\n",
    "    [0.2, 0.1]\n",
    "])\n",
    "\n",
    "# Compute the product of A and B\n",
    "C = np.dot(A, B)\n",
    "\n",
    "# Print the resulting matrix C\n",
    "print(\"Matrix A:\")\n",
    "print(A)\n",
    "\n",
    "print(\"\\nMatrix B:\")\n",
    "print(B)\n",
    "\n",
    "print(\"\\nProduct Matrix C = AB:\")\n",
    "print(C)\n",
    "\n",
    "# Verify that C is column-stochastic\n",
    "# Check non-negativity\n",
    "non_negative = np.all(C >= 0)\n",
    "print(f\"\\nAll entries non-negative: {non_negative}\")\n",
    "\n",
    "# Check column sums\n",
    "column_sums = np.sum(C, axis=0)\n",
    "print(f\"Column sums of C: {column_sums}\")\n",
    "\n",
    "is_column_stochastic = np.allclose(column_sums, 1)\n",
    "print(f\"C is column-stochastic: {is_column_stochastic}\")\n"
   ]
  },
  {
   "cell_type": "markdown",
   "id": "85944397",
   "metadata": {},
   "source": [
    "--------------------------------------------------------------------------------"
   ]
  },
  {
   "cell_type": "markdown",
   "id": "d2f40cc8",
   "metadata": {},
   "source": [
    "## Exercise 11"
   ]
  },
  {
   "cell_type": "code",
   "execution_count": 32,
   "id": "ddba7ac3",
   "metadata": {},
   "outputs": [
    {
     "name": "stdout",
     "output_type": "stream",
     "text": [
      "Real part of the eigenvector:\n",
      "[0.23714058 0.09718983 0.34889409 0.13849551 0.17827999]\n"
     ]
    }
   ],
   "source": [
    "import numpy as np\n",
    "\n",
    "# Define column-stochastic matrix A\n",
    "A = np.array([\n",
    "    [0  , 0  , 1/2, 1/2, 0],\n",
    "    [1/3, 0  ,   0,   0, 0],\n",
    "    [1/3, 1/2,   0, 1/2, 1],\n",
    "    [1/3, 1/2,   0,   0, 0],\n",
    "    [0  ,   0, 1/2,   0, 0]])\n",
    "\n",
    "# Define the teleportation matrix S\n",
    "n = 5\n",
    "S = np.ones((n, n)) / n\n",
    "\n",
    "# Define the damping factor\n",
    "m = 0.15\n",
    "\n",
    "# Calculate the Google matrix M\n",
    "M = m * S + (1 - m) * A\n",
    "\n",
    "# Calculate the eigenvalues and eigenvectors of M\n",
    "eigenvalues, eigenvectors = np.linalg.eig(M)\n",
    "\n",
    "# Find the index of the eigenvalue equal to 1\n",
    "index = np.where(np.isclose(eigenvalues, 1))[0][0]\n",
    "\n",
    "# Get the corresponding eigenvector\n",
    "eigenvector = eigenvectors[:, index]\n",
    "\n",
    "# Normalize the eigenvector so that the sum of its elements is 1\n",
    "eigenvector_normalized = eigenvector / np.sum(eigenvector)\n",
    "\n",
    "# Extract the real part of the eigenvector\n",
    "eigenvector_real = np.real(eigenvector_normalized)\n",
    "\n",
    "print(\"Real part of the eigenvector:\")\n",
    "print(eigenvector_real)\n"
   ]
  },
  {
   "cell_type": "markdown",
   "id": "2d0a705b",
   "metadata": {},
   "source": [
    "--------------------------------------------------------------------------------"
   ]
  },
  {
   "cell_type": "markdown",
   "id": "8548ff94",
   "metadata": {},
   "source": [
    "## Exercise 12"
   ]
  },
  {
   "cell_type": "code",
   "execution_count": 35,
   "id": "f29ef2a2",
   "metadata": {},
   "outputs": [
    {
     "name": "stdout",
     "output_type": "stream",
     "text": [
      "Real part of the eigenvector:\n",
      "[0.23121207 0.09476009 0.34017174 0.13503312 0.17382299 0.025     ]\n"
     ]
    }
   ],
   "source": [
    "import numpy as np\n",
    "\n",
    "# Define column-stochastic matrix A\n",
    "A = np.array([\n",
    "    [0  , 0  , 1/2, 1/2, 0, 1/5],\n",
    "    [1/3, 0  ,   0,   0, 0, 1/5],\n",
    "    [1/3, 1/2,   0, 1/2, 1, 1/5],\n",
    "    [1/3, 1/2,   0,   0, 0, 1/5],\n",
    "    [0  ,   0, 1/2,   0, 0, 1/5],\n",
    "    [0  ,   0,   0,   0, 0,   0]])\n",
    "\n",
    "# Define the teleportation matrix S\n",
    "n = 6\n",
    "S = np.ones((n, n)) / n\n",
    "\n",
    "# Define the damping factor\n",
    "m = 0.15\n",
    "\n",
    "# Calculate the Google matrix M\n",
    "M = m * S + (1 - m) * A\n",
    "\n",
    "# Calculate the eigenvalues and eigenvectors of M\n",
    "eigenvalues, eigenvectors = np.linalg.eig(M)\n",
    "\n",
    "# Find the index of the eigenvalue equal to 1\n",
    "index = np.where(np.isclose(eigenvalues, 1))[0][0]\n",
    "\n",
    "# Get the corresponding eigenvector\n",
    "eigenvector = eigenvectors[:, index]\n",
    "\n",
    "# Normalize the eigenvector so that the sum of its elements is 1\n",
    "eigenvector_normalized = eigenvector / np.sum(eigenvector)\n",
    "\n",
    "# Extract the real part of the eigenvector\n",
    "eigenvector_real = np.real(eigenvector_normalized)\n",
    "\n",
    "print(\"Real part of the eigenvector:\")\n",
    "print(eigenvector_real)"
   ]
  },
  {
   "cell_type": "code",
   "execution_count": 36,
   "id": "e6e9a167",
   "metadata": {},
   "outputs": [
    {
     "name": "stdout",
     "output_type": "stream",
     "text": [
      "{'Page 3': 0.34017174, 'Page 1': 0.23121207, 'Page 5': 0.17382299, 'Page 4': 0.13503312, 'Page 2': 0.09476009, 'Page 6': 0.025}\n"
     ]
    }
   ],
   "source": [
    "# List of values\n",
    "values = [0.23121207, 0.09476009, 0.34017174, 0.13503312, 0.17382299, 0.025]\n",
    "\n",
    "# List of page names\n",
    "page_names = ['Page 1', 'Page 2', 'Page 3', 'Page 4', 'Page 5', 'Page 6']\n",
    "\n",
    "# Create a dictionary mapping each value to a corresponding page name\n",
    "page_ranking = {page_names[i]: values[i] for i in range(len(values))}\n",
    "\n",
    "# Sort the dictionary by values in descending order\n",
    "sorted_page_ranking = dict(sorted(page_ranking.items(), key=lambda item: item[1], reverse=True))\n",
    "\n",
    "# Print the sorted dictionary\n",
    "print(sorted_page_ranking)\n"
   ]
  },
  {
   "cell_type": "markdown",
   "id": "95124bad",
   "metadata": {},
   "source": [
    "--------------------------------------------------------------------------------"
   ]
  },
  {
   "cell_type": "markdown",
   "id": "51b189e2",
   "metadata": {},
   "source": [
    "## Exercise 13"
   ]
  },
  {
   "cell_type": "code",
   "execution_count": 6,
   "id": "201ce457",
   "metadata": {},
   "outputs": [
    {
     "name": "stdout",
     "output_type": "stream",
     "text": [
      "Real part of the eigenvector:\n",
      "[0.24543378 0.09453957 0.19197442 0.13471889 0.16666667 0.16666667]\n"
     ]
    }
   ],
   "source": [
    "import numpy as np\n",
    "\n",
    "# Given matrix A\n",
    "A = np.array([\n",
    "    [0, 0, 1, 1/2, 0, 0],\n",
    "    [1/3, 0, 0, 0, 0, 0],\n",
    "    [1/3, 1/2, 0, 1/2, 0, 0],\n",
    "    [1/3, 1/2, 0, 0, 0, 0],\n",
    "    [0, 0, 0, 0, 0, 1],\n",
    "    [0, 0, 0, 0, 1, 0]\n",
    "])\n",
    "\n",
    "# Define the teleportation matrix S\n",
    "n = 6\n",
    "S = np.ones((n, n)) / n\n",
    "\n",
    "# Define the damping factor\n",
    "m = 0.15\n",
    "\n",
    "# Calculate the Google matrix M\n",
    "M = m * S + (1 - m) * A\n",
    "\n",
    "# Calculate the eigenvalues and eigenvectors of M\n",
    "eigenvalues, eigenvectors = np.linalg.eig(M)\n",
    "\n",
    "# Find the index of the eigenvalue equal to 1\n",
    "index = np.where(np.isclose(eigenvalues, 1))[0][0]\n",
    "\n",
    "# Get the corresponding eigenvector\n",
    "eigenvector = eigenvectors[:, index]\n",
    "\n",
    "# Normalize the eigenvector so that the sum of its elements is 1\n",
    "eigenvector_normalized = eigenvector / np.sum(eigenvector)\n",
    "\n",
    "# Extract the real part of the eigenvector\n",
    "eigenvector_real = np.real(eigenvector_normalized)\n",
    "\n",
    "print(\"Real part of the eigenvector:\")\n",
    "print(eigenvector_real)\n"
   ]
  },
  {
   "cell_type": "code",
   "execution_count": 8,
   "id": "fb7d197d",
   "metadata": {},
   "outputs": [
    {
     "name": "stdout",
     "output_type": "stream",
     "text": [
      "{'Page 1': 0.24543378, 'Page 3': 0.19197442, 'Page 5': 0.16666667, 'Page 6': 0.16666667, 'Page 4': 0.13471889, 'Page 2': 0.09453957}\n"
     ]
    }
   ],
   "source": [
    "# List of values\n",
    "values = [0.24543378, 0.09453957, 0.19197442, 0.13471889, 0.16666667, 0.16666667]\n",
    "\n",
    "# List of page names\n",
    "page_names = ['Page 1', 'Page 2', 'Page 3', 'Page 4', 'Page 5', 'Page 6']\n",
    "\n",
    "# Create a dictionary mapping each value to a corresponding page name\n",
    "page_ranking = {page_names[i]: values[i] for i in range(len(values))}\n",
    "\n",
    "# Sort the dictionary by values in descending order\n",
    "sorted_page_ranking = dict(sorted(page_ranking.items(), key=lambda item: item[1], reverse=True))\n",
    "\n",
    "# Print the sorted dictionary\n",
    "print(sorted_page_ranking)"
   ]
  },
  {
   "cell_type": "markdown",
   "id": "0147ce8e",
   "metadata": {},
   "source": [
    "--------------------------------------------------------------------------------"
   ]
  },
  {
   "cell_type": "markdown",
   "id": "bc187c78",
   "metadata": {},
   "source": [
    "## Exercise 14"
   ]
  },
  {
   "cell_type": "code",
   "execution_count": 43,
   "id": "181ba661",
   "metadata": {},
   "outputs": [
    {
     "name": "stdout",
     "output_type": "stream",
     "text": [
      "{'Norms', 'Ratios'} {1: (0.6039169300000001, None), 5: (0.4229104212903618, 1.0603507186943075), 10: (0.41785543595143537, 1.0021216076525001), 50: (0.41755108035978783, 1.0000000009654022)}\n",
      "c 0.94\n",
      "Second largest eigenvalue (0.2858814853553465+0j)\n"
     ]
    }
   ],
   "source": [
    "import numpy as np\n",
    "\n",
    "# Define the matrix M from the previous exercise\n",
    "M = np.array([\n",
    "    [0.03, 0.03, 0.455, 0.455, 0.03],\n",
    "    [0.31333333, 0.03, 0.03, 0.03, 0.03],\n",
    "    [0.31333333, 0.455, 0.03, 0.455, 0.88],\n",
    "    [0.31333333, 0.455, 0.03, 0.03, 0.03],\n",
    "    [0.03, 0.03, 0.455, 0.03, 0.03]\n",
    "])\n",
    "\n",
    "# Define the initial guess x0 not too close to the actual eigenvector\n",
    "x0 = np.array([1, 0, 0, 0, 0])\n",
    "\n",
    "# Placeholder for the actual eigenvector q\n",
    "q = np.array([0.20664504, 0.12270648, 0.43864676, 0.23200172, 0.0])  # Example values\n",
    "\n",
    "# Function to compute the 1-norm difference\n",
    "def norm_difference(M, x0, q, k):\n",
    "    xk = x0\n",
    "    differences = []\n",
    "    ratios = []\n",
    "    for i in range(k):\n",
    "        xk = M @ xk\n",
    "        difference = np.linalg.norm(xk - q, 1)\n",
    "        differences.append(difference)\n",
    "        if i > 0:\n",
    "            ratios.append(differences[i] / differences[i-1])\n",
    "    return differences, ratios\n",
    "\n",
    "# Calculate the differences and ratios for k = 1, 5, 10, 50\n",
    "k_values = [1, 5, 10, 50]\n",
    "differences, ratios = norm_difference(M, x0, q, max(k_values))\n",
    "\n",
    "# Extract the required values\n",
    "results = {k: (differences[k-1], ratios[k-2] if k > 1 else None) for k in k_values}\n",
    "\n",
    "# Calculate c\n",
    "c = 1 - 2 * np.min(M)\n",
    "\n",
    "# Calculate the second largest eigenvalue\n",
    "eigenvalues = np.linalg.eigvals(M)\n",
    "second_largest_eigenvalue = sorted(eigenvalues, reverse=True)[1]\n",
    "\n",
    "print({\"Norms\", \"Ratios\"}, results)\n",
    "print(\"c\", c)\n",
    "print(\"Second largest eigenvalue\", second_largest_eigenvalue)"
   ]
  },
  {
   "cell_type": "markdown",
   "id": "7fb746f1",
   "metadata": {},
   "source": [
    "--------------------------------------------------------------------------------"
   ]
  },
  {
   "cell_type": "markdown",
   "id": "9ce65b4e",
   "metadata": {},
   "source": [
    "## Exercise 16"
   ]
  },
  {
   "cell_type": "code",
   "execution_count": 56,
   "id": "10772f03",
   "metadata": {},
   "outputs": [
    {
     "name": "stdout",
     "output_type": "stream",
     "text": [
      "M is not diagonalizable for all values of 0 <= m < 1\n"
     ]
    }
   ],
   "source": [
    "import numpy as np\n",
    "\n",
    "# Define the matrix A\n",
    "A = np.array([\n",
    "    [0, 0.5, 0.5],\n",
    "    [0, 0, 0.5],\n",
    "    [1, 0.5, 0]\n",
    "])\n",
    "\n",
    "# Define the matrix S\n",
    "S = np.ones((3, 3)) / 3\n",
    "\n",
    "# Define a dense sampling of m values in the range [0, 1)\n",
    "m_values = np.linspace(0, 1, 1000, endpoint=False)\n",
    "\n",
    "# Function to check if a matrix is diagonalizable\n",
    "def is_diagonalizable(matrix):\n",
    "    eigenvalues, eigenvectors = np.linalg.eig(matrix)\n",
    "    rank = np.linalg.matrix_rank(eigenvectors)\n",
    "    return rank == matrix.shape[0]\n",
    "\n",
    "# Define the matrix M\n",
    "M = (1 - m) * A + m * S\n",
    "\n",
    "# If any value of m in the range [0, 1) is found where M is not diagonalizable\n",
    "if len(non_diagonalizable_m) > 0:\n",
    "    print(f\"M is not diagonalizable for all values of 0 <= m < 1\")\n",
    "else:\n",
    "    print(\"M is diagonalizable for all values of 0 <= m < 1\")\n"
   ]
  }
 ],
 "metadata": {
  "kernelspec": {
   "display_name": "Python 3 (ipykernel)",
   "language": "python",
   "name": "python3"
  },
  "language_info": {
   "codemirror_mode": {
    "name": "ipython",
    "version": 3
   },
   "file_extension": ".py",
   "mimetype": "text/x-python",
   "name": "python",
   "nbconvert_exporter": "python",
   "pygments_lexer": "ipython3",
   "version": "3.9.13"
  }
 },
 "nbformat": 4,
 "nbformat_minor": 5
}
